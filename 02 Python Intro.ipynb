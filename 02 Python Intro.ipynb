{
 "cells": [
  {
   "cell_type": "code",
   "execution_count": 388,
   "id": "ee160215",
   "metadata": {},
   "outputs": [],
   "source": [
    "import pandas as pd\n",
    "import matplotlib.pyplot as plt\n",
    "\n",
    "from sklearn.linear_model import LinearRegression\n",
    "\n",
    "\n",
    "data = pd.read_csv(\"lsd_math_score_data.csv\")"
   ]
  },
  {
   "cell_type": "code",
   "execution_count": 389,
   "id": "25b8b4ec",
   "metadata": {},
   "outputs": [
    {
     "name": "stdout",
     "output_type": "stream",
     "text": [
      "   Time_Delay_in_Minutes  LSD_ppm  Avg_Math_Test_Score\n",
      "0                      5     1.17                78.93\n",
      "1                     15     2.97                58.20\n",
      "2                     30     3.26                67.47\n",
      "3                     60     4.69                37.47\n",
      "4                    120     5.83                45.65\n",
      "5                    240     6.00                32.92\n",
      "6                    480     6.41                29.97\n"
     ]
    }
   ],
   "source": [
    "print(data)"
   ]
  },
  {
   "cell_type": "code",
   "execution_count": 390,
   "id": "bea0c288",
   "metadata": {},
   "outputs": [
    {
     "data": {
      "text/plain": [
       "pandas.core.frame.DataFrame"
      ]
     },
     "execution_count": 390,
     "metadata": {},
     "output_type": "execute_result"
    }
   ],
   "source": [
    "type(data)"
   ]
  },
  {
   "cell_type": "code",
   "execution_count": 391,
   "id": "fe816f12",
   "metadata": {},
   "outputs": [],
   "source": [
    "Math_scores = data[\"Avg_Math_Test_Score\"]"
   ]
  },
  {
   "cell_type": "code",
   "execution_count": 392,
   "id": "c32f77a3",
   "metadata": {},
   "outputs": [
    {
     "name": "stdout",
     "output_type": "stream",
     "text": [
      "0    78.93\n",
      "1    58.20\n",
      "2    67.47\n",
      "3    37.47\n",
      "4    45.65\n",
      "5    32.92\n",
      "6    29.97\n",
      "Name: Avg_Math_Test_Score, dtype: float64\n"
     ]
    }
   ],
   "source": [
    "print(Math_scores)"
   ]
  },
  {
   "cell_type": "markdown",
   "id": "cf55f5c0",
   "metadata": {},
   "source": [
    "Adding a New column"
   ]
  },
  {
   "cell_type": "code",
   "execution_count": 393,
   "id": "137a1453",
   "metadata": {},
   "outputs": [],
   "source": [
    "data[\"Test_subject\"] = \"Maths with coding\""
   ]
  },
  {
   "cell_type": "code",
   "execution_count": 394,
   "id": "964e1ebe",
   "metadata": {},
   "outputs": [
    {
     "name": "stdout",
     "output_type": "stream",
     "text": [
      "   Time_Delay_in_Minutes  LSD_ppm  Avg_Math_Test_Score       Test_subject\n",
      "0                      5     1.17                78.93  Maths with coding\n",
      "1                     15     2.97                58.20  Maths with coding\n",
      "2                     30     3.26                67.47  Maths with coding\n",
      "3                     60     4.69                37.47  Maths with coding\n",
      "4                    120     5.83                45.65  Maths with coding\n",
      "5                    240     6.00                32.92  Maths with coding\n",
      "6                    480     6.41                29.97  Maths with coding\n"
     ]
    }
   ],
   "source": [
    "print(data)"
   ]
  },
  {
   "cell_type": "code",
   "execution_count": null,
   "id": "3b240917",
   "metadata": {},
   "outputs": [],
   "source": []
  },
  {
   "cell_type": "code",
   "execution_count": 395,
   "id": "ff5ed226",
   "metadata": {},
   "outputs": [],
   "source": [
    "data[\"High_Scores\"] = 100"
   ]
  },
  {
   "cell_type": "code",
   "execution_count": 396,
   "id": "0cfa6daf",
   "metadata": {},
   "outputs": [
    {
     "name": "stdout",
     "output_type": "stream",
     "text": [
      "   Time_Delay_in_Minutes  LSD_ppm  Avg_Math_Test_Score       Test_subject  \\\n",
      "0                      5     1.17                78.93  Maths with coding   \n",
      "1                     15     2.97                58.20  Maths with coding   \n",
      "2                     30     3.26                67.47  Maths with coding   \n",
      "3                     60     4.69                37.47  Maths with coding   \n",
      "4                    120     5.83                45.65  Maths with coding   \n",
      "5                    240     6.00                32.92  Maths with coding   \n",
      "6                    480     6.41                29.97  Maths with coding   \n",
      "\n",
      "   High_Scores  \n",
      "0          100  \n",
      "1          100  \n",
      "2          100  \n",
      "3          100  \n",
      "4          100  \n",
      "5          100  \n",
      "6          100  \n"
     ]
    }
   ],
   "source": [
    "print(data)"
   ]
  },
  {
   "cell_type": "markdown",
   "id": "63829dd6",
   "metadata": {},
   "source": [
    "#Challenge change the high scores vlaues to the Avg_Math_Test_Score values\n"
   ]
  },
  {
   "cell_type": "code",
   "execution_count": 397,
   "id": "eaa5df78",
   "metadata": {},
   "outputs": [],
   "source": [
    "new_scores = data[\"Avg_Math_Test_Score\"]"
   ]
  },
  {
   "cell_type": "code",
   "execution_count": 398,
   "id": "42d6604b",
   "metadata": {},
   "outputs": [
    {
     "name": "stdout",
     "output_type": "stream",
     "text": [
      "0    78.93\n",
      "1    58.20\n",
      "2    67.47\n",
      "3    37.47\n",
      "4    45.65\n",
      "5    32.92\n",
      "6    29.97\n",
      "Name: Avg_Math_Test_Score, dtype: float64\n"
     ]
    }
   ],
   "source": [
    "print(new_scores)"
   ]
  },
  {
   "cell_type": "code",
   "execution_count": 399,
   "id": "e50aa4ef",
   "metadata": {},
   "outputs": [],
   "source": [
    "data[\"High_Scores\"] = new_scores"
   ]
  },
  {
   "cell_type": "code",
   "execution_count": 400,
   "id": "e8ccf488",
   "metadata": {},
   "outputs": [
    {
     "name": "stdout",
     "output_type": "stream",
     "text": [
      "   Time_Delay_in_Minutes  LSD_ppm  Avg_Math_Test_Score       Test_subject  \\\n",
      "0                      5     1.17                78.93  Maths with coding   \n",
      "1                     15     2.97                58.20  Maths with coding   \n",
      "2                     30     3.26                67.47  Maths with coding   \n",
      "3                     60     4.69                37.47  Maths with coding   \n",
      "4                    120     5.83                45.65  Maths with coding   \n",
      "5                    240     6.00                32.92  Maths with coding   \n",
      "6                    480     6.41                29.97  Maths with coding   \n",
      "\n",
      "   High_Scores  \n",
      "0        78.93  \n",
      "1        58.20  \n",
      "2        67.47  \n",
      "3        37.47  \n",
      "4        45.65  \n",
      "5        32.92  \n",
      "6        29.97  \n"
     ]
    }
   ],
   "source": [
    "print(data)"
   ]
  },
  {
   "cell_type": "code",
   "execution_count": 401,
   "id": "5185fd21",
   "metadata": {},
   "outputs": [
    {
     "name": "stdout",
     "output_type": "stream",
     "text": [
      "   Time_Delay_in_Minutes  LSD_ppm  Avg_Math_Test_Score       Test_subject  \\\n",
      "0                      5     1.17                78.93  Maths with coding   \n",
      "1                     15     2.97                58.20  Maths with coding   \n",
      "2                     30     3.26                67.47  Maths with coding   \n",
      "3                     60     4.69                37.47  Maths with coding   \n",
      "4                    120     5.83                45.65  Maths with coding   \n",
      "5                    240     6.00                32.92  Maths with coding   \n",
      "6                    480     6.41                29.97  Maths with coding   \n",
      "\n",
      "   High_Scores  \n",
      "0    6229.9449  \n",
      "1    3387.2400  \n",
      "2    4552.2009  \n",
      "3    1404.0009  \n",
      "4    2083.9225  \n",
      "5    1083.7264  \n",
      "6     898.2009  \n"
     ]
    }
   ],
   "source": [
    "#Challenge: square the values store inside High_Scores.\n",
    "# data[\"High_Scores\"] = data[\"High_Scores\"] * data[\"High_Scores\"] // This method is also \n",
    "data[\"High_Scores\"] = data[\"High_Scores\"] **2\n",
    "print(data)"
   ]
  },
  {
   "cell_type": "code",
   "execution_count": 402,
   "id": "5fe9173b",
   "metadata": {},
   "outputs": [],
   "source": [
    "onlyMathsScores = data[\"Avg_Math_Test_Score\"]\n"
   ]
  },
  {
   "cell_type": "code",
   "execution_count": 403,
   "id": "da0b46b6",
   "metadata": {},
   "outputs": [
    {
     "data": {
      "text/plain": [
       "pandas.core.series.Series"
      ]
     },
     "execution_count": 403,
     "metadata": {},
     "output_type": "execute_result"
    }
   ],
   "source": [
    "type(onlyMathsScores)"
   ]
  },
  {
   "cell_type": "code",
   "execution_count": 404,
   "id": "78e6ba8e",
   "metadata": {},
   "outputs": [
    {
     "name": "stdout",
     "output_type": "stream",
     "text": [
      "   LSD_ppm  Avg_Math_Test_Score\n",
      "0     1.17                78.93\n",
      "1     2.97                58.20\n",
      "2     3.26                67.47\n",
      "3     4.69                37.47\n",
      "4     5.83                45.65\n",
      "5     6.00                32.92\n",
      "6     6.41                29.97\n"
     ]
    }
   ],
   "source": [
    "# Challenge: Create a List called column List . Put 'LSD_ppm' and 'Avg_Math_Score' inside.\n",
    "columnList = [\"LSD_ppm\", \"Avg_Math_Test_Score\"]\n",
    "cleanData = data[columnList]\n",
    "print(cleanData)"
   ]
  },
  {
   "cell_type": "code",
   "execution_count": 405,
   "id": "727341a2",
   "metadata": {},
   "outputs": [
    {
     "data": {
      "text/html": [
       "<div>\n",
       "<style scoped>\n",
       "    .dataframe tbody tr th:only-of-type {\n",
       "        vertical-align: middle;\n",
       "    }\n",
       "\n",
       "    .dataframe tbody tr th {\n",
       "        vertical-align: top;\n",
       "    }\n",
       "\n",
       "    .dataframe thead th {\n",
       "        text-align: right;\n",
       "    }\n",
       "</style>\n",
       "<table border=\"1\" class=\"dataframe\">\n",
       "  <thead>\n",
       "    <tr style=\"text-align: right;\">\n",
       "      <th></th>\n",
       "      <th>LSD_ppm</th>\n",
       "      <th>Avg_Math_Test_Score</th>\n",
       "    </tr>\n",
       "  </thead>\n",
       "  <tbody>\n",
       "    <tr>\n",
       "      <th>0</th>\n",
       "      <td>1.17</td>\n",
       "      <td>78.93</td>\n",
       "    </tr>\n",
       "    <tr>\n",
       "      <th>1</th>\n",
       "      <td>2.97</td>\n",
       "      <td>58.20</td>\n",
       "    </tr>\n",
       "    <tr>\n",
       "      <th>2</th>\n",
       "      <td>3.26</td>\n",
       "      <td>67.47</td>\n",
       "    </tr>\n",
       "    <tr>\n",
       "      <th>3</th>\n",
       "      <td>4.69</td>\n",
       "      <td>37.47</td>\n",
       "    </tr>\n",
       "    <tr>\n",
       "      <th>4</th>\n",
       "      <td>5.83</td>\n",
       "      <td>45.65</td>\n",
       "    </tr>\n",
       "    <tr>\n",
       "      <th>5</th>\n",
       "      <td>6.00</td>\n",
       "      <td>32.92</td>\n",
       "    </tr>\n",
       "    <tr>\n",
       "      <th>6</th>\n",
       "      <td>6.41</td>\n",
       "      <td>29.97</td>\n",
       "    </tr>\n",
       "  </tbody>\n",
       "</table>\n",
       "</div>"
      ],
      "text/plain": [
       "   LSD_ppm  Avg_Math_Test_Score\n",
       "0     1.17                78.93\n",
       "1     2.97                58.20\n",
       "2     3.26                67.47\n",
       "3     4.69                37.47\n",
       "4     5.83                45.65\n",
       "5     6.00                32.92\n",
       "6     6.41                29.97"
      ]
     },
     "execution_count": 405,
     "metadata": {},
     "output_type": "execute_result"
    }
   ],
   "source": [
    "#Do the same thing in one line\n",
    "cleanData = data[[\"LSD_ppm\", \"Avg_Math_Test_Score\"]]\n",
    "cleanData\n"
   ]
  },
  {
   "cell_type": "code",
   "execution_count": 406,
   "id": "0fac3a20",
   "metadata": {},
   "outputs": [
    {
     "data": {
      "text/plain": [
       "pandas.core.frame.DataFrame"
      ]
     },
     "execution_count": 406,
     "metadata": {},
     "output_type": "execute_result"
    }
   ],
   "source": [
    "type(cleanData)"
   ]
  },
  {
   "cell_type": "markdown",
   "id": "bc46b380",
   "metadata": {},
   "source": [
    "DataFrames does't have to has two columns, they can also only has one column"
   ]
  },
  {
   "cell_type": "code",
   "execution_count": 407,
   "id": "bfe04238",
   "metadata": {},
   "outputs": [
    {
     "data": {
      "text/plain": [
       "pandas.core.frame.DataFrame"
      ]
     },
     "execution_count": 407,
     "metadata": {},
     "output_type": "execute_result"
    }
   ],
   "source": [
    "y = data[[\"Avg_Math_Test_Score\"]] # make sure to put two brackets for it to make it a dataFrame.\n",
    "type(y)"
   ]
  },
  {
   "cell_type": "code",
   "execution_count": 408,
   "id": "f42e9e6e",
   "metadata": {},
   "outputs": [
    {
     "name": "stdout",
     "output_type": "stream",
     "text": [
      "   LSD_ppm\n",
      "0     1.17\n",
      "1     2.97\n",
      "2     3.26\n",
      "3     4.69\n",
      "4     5.83\n",
      "5     6.00\n",
      "6     6.41\n",
      "<class 'pandas.core.frame.DataFrame'>\n"
     ]
    }
   ],
   "source": [
    "#Challenge: 1) Create a variable called X\n",
    "# Set X equal to the values of LSD_ppm\n",
    "# Make sure X is a DataFrame\n",
    "# 1) print the values of X\n",
    "# 2) Show the type of X\n",
    "\n",
    "X = data[[\"LSD_ppm\"]]\n",
    "print(X)\n",
    "print(type(X))"
   ]
  },
  {
   "cell_type": "code",
   "execution_count": null,
   "id": "90d974ac",
   "metadata": {},
   "outputs": [],
   "source": []
  },
  {
   "cell_type": "markdown",
   "id": "784f583f",
   "metadata": {},
   "source": [
    "How to Delete a column in a dataF"
   ]
  },
  {
   "cell_type": "code",
   "execution_count": 409,
   "id": "3ae05d16",
   "metadata": {},
   "outputs": [
    {
     "name": "stdout",
     "output_type": "stream",
     "text": [
      "   Time_Delay_in_Minutes  LSD_ppm  Avg_Math_Test_Score       Test_subject  \\\n",
      "0                      5     1.17                78.93  Maths with coding   \n",
      "1                     15     2.97                58.20  Maths with coding   \n",
      "2                     30     3.26                67.47  Maths with coding   \n",
      "3                     60     4.69                37.47  Maths with coding   \n",
      "4                    120     5.83                45.65  Maths with coding   \n",
      "5                    240     6.00                32.92  Maths with coding   \n",
      "6                    480     6.41                29.97  Maths with coding   \n",
      "\n",
      "   High_Scores  \n",
      "0    6229.9449  \n",
      "1    3387.2400  \n",
      "2    4552.2009  \n",
      "3    1404.0009  \n",
      "4    2083.9225  \n",
      "5    1083.7264  \n",
      "6     898.2009  \n"
     ]
    }
   ],
   "source": [
    "print(data)"
   ]
  },
  {
   "cell_type": "code",
   "execution_count": 410,
   "id": "ecbe6b1f",
   "metadata": {},
   "outputs": [],
   "source": [
    "del data[\"Test_subject\"]"
   ]
  },
  {
   "cell_type": "code",
   "execution_count": 411,
   "id": "4048ea76",
   "metadata": {},
   "outputs": [
    {
     "name": "stdout",
     "output_type": "stream",
     "text": [
      "['Time_Delay_in_Minutes', 'LSD_ppm', 'Avg_Math_Test_Score', 'High_Scores']\n"
     ]
    }
   ],
   "source": [
    "#This means that the column \"Test_subject\" does not exactly as written in your DataFrame\n",
    "# - even though it looks like it does from your preview.\n",
    "#This usually happens due to:\n",
    "#Extra leading/trailing spaces in the column name.\n",
    "#Invisible non-printable characters.\n",
    "#Slightly different spelling or casing.\n",
    "\n",
    "#How to check the real column names\n",
    "print(data.columns.tolist())"
   ]
  },
  {
   "cell_type": "code",
   "execution_count": null,
   "id": "a24731ee",
   "metadata": {},
   "outputs": [],
   "source": []
  },
  {
   "cell_type": "markdown",
   "id": "b3217c25",
   "metadata": {},
   "source": [
    "How to delete a column:"
   ]
  },
  {
   "cell_type": "code",
   "execution_count": 412,
   "id": "c60f19fd",
   "metadata": {},
   "outputs": [],
   "source": [
    "del data[\"Time_Delay_in_Minutes\"]\n",
    "#This error is because I already have deleted the column , and due to run the same code for two times"
   ]
  },
  {
   "cell_type": "code",
   "execution_count": 413,
   "id": "db3e9892",
   "metadata": {},
   "outputs": [
    {
     "name": "stdout",
     "output_type": "stream",
     "text": [
      "['LSD_ppm', 'Avg_Math_Test_Score', 'High_Scores']\n"
     ]
    }
   ],
   "source": [
    "print(data.columns.tolist())"
   ]
  },
  {
   "cell_type": "code",
   "execution_count": 414,
   "id": "cdd62020",
   "metadata": {},
   "outputs": [
    {
     "name": "stdout",
     "output_type": "stream",
     "text": [
      "   LSD_ppm  Avg_Math_Test_Score  High_Scores\n",
      "0     1.17                78.93    6229.9449\n",
      "1     2.97                58.20    3387.2400\n",
      "2     3.26                67.47    4552.2009\n",
      "3     4.69                37.47    1404.0009\n",
      "4     5.83                45.65    2083.9225\n",
      "5     6.00                32.92    1083.7264\n",
      "6     6.41                29.97     898.2009\n"
     ]
    }
   ],
   "source": [
    "print(data)"
   ]
  },
  {
   "cell_type": "code",
   "execution_count": null,
   "id": "b765b795",
   "metadata": {},
   "outputs": [],
   "source": [
    "\n",
    "\n",
    "\n"
   ]
  },
  {
   "cell_type": "markdown",
   "id": "12f30540",
   "metadata": {},
   "source": [
    "Functions"
   ]
  },
  {
   "cell_type": "code",
   "execution_count": 415,
   "id": "e534eaaa",
   "metadata": {},
   "outputs": [],
   "source": [
    "# Defining the function\n",
    "\n",
    "def get_milk():\n",
    "    print(\"Open door\")\n",
    "    print(\"walk to the store\")\n",
    "    print(\"Buy milk on the ground floor\")\n",
    "    print(\"Return with milk galore\")"
   ]
  },
  {
   "cell_type": "code",
   "execution_count": 416,
   "id": "a3f822af",
   "metadata": {},
   "outputs": [
    {
     "name": "stdout",
     "output_type": "stream",
     "text": [
      "Open door\n",
      "walk to the store\n",
      "Buy milk on the ground floor\n",
      "Return with milk galore\n"
     ]
    }
   ],
   "source": [
    "# Calling the function\n",
    "\n",
    "get_milk()"
   ]
  },
  {
   "cell_type": "code",
   "execution_count": 417,
   "id": "ee3eea41",
   "metadata": {},
   "outputs": [],
   "source": [
    "#Functions with arguments\n",
    "\n",
    "def fill_the_fridge(amount): # The placeholder we provide when creating a function is called a Parameter.(amount)\n",
    "    print(\"Open door\")\n",
    "    print(\"walk to the store\")\n",
    "    print(f\"Buy {amount} cartoons of milk on the ground floor\")\n",
    "    print(\"Return with milk galore\")"
   ]
  },
  {
   "cell_type": "code",
   "execution_count": 418,
   "id": "8f2b1a87",
   "metadata": {},
   "outputs": [
    {
     "name": "stdout",
     "output_type": "stream",
     "text": [
      "Open door\n",
      "walk to the store\n",
      "Buy five cartoons of milk on the ground floor\n",
      "Return with milk galore\n"
     ]
    }
   ],
   "source": [
    "fill_the_fridge(\"five\") # The value we provide when the function is called is called a Argument.(\"five\")"
   ]
  },
  {
   "cell_type": "code",
   "execution_count": 419,
   "id": "72cf7ddf",
   "metadata": {},
   "outputs": [
    {
     "name": "stdout",
     "output_type": "stream",
     "text": [
      "Open door\n",
      "walk to the store\n",
      "Buy thousand cartoons of milk on the ground floor\n",
      "Return with milk galore\n"
     ]
    }
   ],
   "source": [
    "fill_the_fridge(\"thousand\") # The value we provide when the function is called is called a Argument.(\"thousand\")"
   ]
  },
  {
   "cell_type": "code",
   "execution_count": 420,
   "id": "3ea68670",
   "metadata": {},
   "outputs": [
    {
     "ename": "TypeError",
     "evalue": "fill_the_fridge() missing 1 required positional argument: 'amount'",
     "output_type": "error",
     "traceback": [
      "\u001b[0;31m---------------------------------------------------------------------------\u001b[0m",
      "\u001b[0;31mTypeError\u001b[0m                                 Traceback (most recent call last)",
      "\u001b[0;32m/var/folders/kd/5g049vnn2gl8chjxsn754hjh0000gn/T/ipykernel_1360/3359727718.py\u001b[0m in \u001b[0;36m<module>\u001b[0;34m\u001b[0m\n\u001b[0;32m----> 1\u001b[0;31m \u001b[0mfill_the_fridge\u001b[0m\u001b[0;34m(\u001b[0m\u001b[0;34m)\u001b[0m\u001b[0;34m\u001b[0m\u001b[0;34m\u001b[0m\u001b[0m\n\u001b[0m",
      "\u001b[0;31mTypeError\u001b[0m: fill_the_fridge() missing 1 required positional argument: 'amount'"
     ]
    }
   ],
   "source": [
    "fill_the_fridge()"
   ]
  },
  {
   "cell_type": "markdown",
   "id": "dfc45b06",
   "metadata": {},
   "source": [
    "functions with multiple parameters"
   ]
  },
  {
   "cell_type": "code",
   "execution_count": null,
   "id": "9e5f29be",
   "metadata": {},
   "outputs": [],
   "source": [
    "def milk_mission(amount, destination): # The placeholders we provide when creating a function is called  Parameters.(amount and destination)\n",
    "    print(\"Open door\")\n",
    "    print(f\"walk to the {destination}\")\n",
    "    print(f\"Buy {amount} cartoons of milk on the ground floor\")\n",
    "    print(\"Return with milk galore\")"
   ]
  },
  {
   "cell_type": "code",
   "execution_count": null,
   "id": "03363cc0",
   "metadata": {},
   "outputs": [],
   "source": [
    "milk_mission(\"twenty\", \"department store\")"
   ]
  },
  {
   "cell_type": "code",
   "execution_count": null,
   "id": "1d3272b7",
   "metadata": {},
   "outputs": [],
   "source": [
    "milk_mission(\"department store\", \"twenty\")"
   ]
  },
  {
   "cell_type": "code",
   "execution_count": null,
   "id": "68989927",
   "metadata": {},
   "outputs": [],
   "source": [
    "# the order matches.\n",
    "# otherwise follow the method below"
   ]
  },
  {
   "cell_type": "code",
   "execution_count": null,
   "id": "c055c67b",
   "metadata": {},
   "outputs": [],
   "source": [
    "milk_mission(destination = \"department store\", amount = \"twenty\")"
   ]
  },
  {
   "cell_type": "code",
   "execution_count": null,
   "id": "a2b01507",
   "metadata": {},
   "outputs": [],
   "source": [
    "milk_mission(amount = \"twenty\", \"department store\" )"
   ]
  },
  {
   "cell_type": "code",
   "execution_count": null,
   "id": "3ca20222",
   "metadata": {},
   "outputs": [],
   "source": [
    "milk_mission(\"twenty\", destination = \"department store\" )"
   ]
  },
  {
   "cell_type": "code",
   "execution_count": null,
   "id": "7eac0c19",
   "metadata": {},
   "outputs": [],
   "source": []
  },
  {
   "cell_type": "markdown",
   "id": "b54f9970",
   "metadata": {},
   "source": [
    "Result and Return the values "
   ]
  },
  {
   "cell_type": "code",
   "execution_count": null,
   "id": "c82e5563",
   "metadata": {},
   "outputs": [],
   "source": [
    "#CHallenge create a calculator that gets 2 arguments to do * , +, -, / for the user."
   ]
  },
  {
   "cell_type": "code",
   "execution_count": null,
   "id": "051a07ef",
   "metadata": {},
   "outputs": [],
   "source": [
    "def calculator(value1, value2, method):\n",
    "    if method == \"*\" :\n",
    "        return value1*value2\n",
    "    elif method == \"+\" :\n",
    "        return value1 + value2\n",
    "    elif method == \"-\":\n",
    "        return value1 - value2\n",
    "    elif method == \"/\" :\n",
    "        return value1 / value2"
   ]
  },
  {
   "cell_type": "code",
   "execution_count": null,
   "id": "f5514bfd",
   "metadata": {},
   "outputs": [],
   "source": [
    "calculator(50,2,\"/\")"
   ]
  },
  {
   "cell_type": "code",
   "execution_count": null,
   "id": "88233a69",
   "metadata": {},
   "outputs": [],
   "source": [
    "calculator(50,2,\"+\")"
   ]
  },
  {
   "cell_type": "code",
   "execution_count": null,
   "id": "16caedb0",
   "metadata": {},
   "outputs": [],
   "source": [
    "calculator(50,2,\"-\")"
   ]
  },
  {
   "cell_type": "code",
   "execution_count": null,
   "id": "55af80a2",
   "metadata": {},
   "outputs": [],
   "source": [
    "calculator(50,2,\"*\")"
   ]
  },
  {
   "cell_type": "code",
   "execution_count": null,
   "id": "b5eba62f",
   "metadata": {},
   "outputs": [],
   "source": []
  },
  {
   "cell_type": "markdown",
   "id": "8cf5e11c",
   "metadata": {},
   "source": [
    "Regression and Analysis"
   ]
  },
  {
   "cell_type": "code",
   "execution_count": null,
   "id": "670c15b1",
   "metadata": {},
   "outputs": [],
   "source": [
    "print(data)"
   ]
  },
  {
   "cell_type": "code",
   "execution_count": null,
   "id": "4a751f59",
   "metadata": {},
   "outputs": [],
   "source": [
    "data = pd.read_csv(\"lsd_math_score_data.csv\")\n",
    "print(data)"
   ]
  },
  {
   "cell_type": "code",
   "execution_count": null,
   "id": "8bb18440",
   "metadata": {},
   "outputs": [],
   "source": [
    "time = data[\"Time_Delay_in_Minutes\"]\n",
    "lsd = data[\"LSD_ppm\"]\n",
    "score = data[\"Avg_Math_Test_Score\"]"
   ]
  },
  {
   "cell_type": "markdown",
   "id": "86fcfb31",
   "metadata": {},
   "source": [
    "Data Visualisation"
   ]
  },
  {
   "cell_type": "code",
   "execution_count": null,
   "id": "a8cf51c8",
   "metadata": {},
   "outputs": [],
   "source": [
    "%matplotlib inline\n",
    "#The %matplotlib inline command ensures that when you use matplotlib.pyplot to create a plot, \n",
    "#the output (like a graph) is shown right below the code cell in the notebook.\n",
    "\n",
    "plt.title(\"Tissue concentration of LSD over time\", fontsize=15)\n",
    "\n",
    "plt.xlabel(\"time in minutes\", fontsize=13)\n",
    "plt.ylabel(\"Tissue LSD ppm\", fontsize=13)\n",
    "\n",
    "plt.xticks(fontsize=12)\n",
    "plt.yticks(fontsize=12)\n",
    "\n",
    "plt.xlim(0, 500)\n",
    "plt.ylim(1, 7)\n",
    "\n",
    "#adding mandatory text to our graph\n",
    "plt.text(x=0, y=-0.5, s=\"Wagnar et al. (1968)\", fontsize=11)\n",
    "\n",
    "plt.style.use(\"classic\") #you can choose different templates in the documentation\n",
    "\n",
    "plt.plot(time, lsd, color=\"red\", linewidth=3)\n",
    "plt.show()"
   ]
  },
  {
   "cell_type": "code",
   "execution_count": null,
   "id": "8b5e58c3",
   "metadata": {},
   "outputs": [],
   "source": [
    "regr = LinearRegression()\n",
    "regr.fit(lsd, score) # fit(independent variable, dependent variable(or the values what we are predicting))\n",
    "\n",
    "#---------------------------------------------------------------------------\n",
    "# NameError                                 Traceback (most recent call last)\n",
    "# /var/folders/kd/5g049vnn2gl8chjxsn754hjh0000gn/T/ipykernel_1360/1254543072.py in <module>\n",
    "#       1 regr = LinearRegression()\n",
    "# ----> 2 regr.fit(lsd, times) # fit(independent variable, dependent variable(or the values what we are predicting))\n",
    "\n",
    "# NameError: name 'times' is not defined"
   ]
  },
  {
   "cell_type": "code",
   "execution_count": null,
   "id": "169cfa47",
   "metadata": {},
   "outputs": [],
   "source": [
    "#The reason for we are getting this erros is the lsd , time, and score is not dataFrames"
   ]
  },
  {
   "cell_type": "code",
   "execution_count": null,
   "id": "9483f3e5",
   "metadata": {},
   "outputs": [],
   "source": [
    "time = data[[\"Time_Delay_in_Minutes\"]]\n",
    "lsd = data[[\"LSD_ppm\"]]\n",
    "score = data[[\"Avg_Math_Test_Score\"]] "
   ]
  },
  {
   "cell_type": "code",
   "execution_count": null,
   "id": "d217564e",
   "metadata": {},
   "outputs": [],
   "source": [
    "regr = LinearRegression()\n",
    "regr.fit(lsd, score)\n",
    "print(f\"Theta1 :{regr.coef_[0][0]}\")\n",
    "print(f\"Intercept/Theta0 :{regr.intercept_[0]}\")\n",
    "print(f\"R-squared  :{regr.score(lsd, score)}\")\n",
    "\n",
    "predicted_score = regr.predict(lsd) #predicting maths score absed on lsd\n"
   ]
  },
  {
   "cell_type": "code",
   "execution_count": null,
   "id": "fa2292a6",
   "metadata": {},
   "outputs": [],
   "source": []
  },
  {
   "cell_type": "code",
   "execution_count": 422,
   "id": "2c772ddc",
   "metadata": {},
   "outputs": [
    {
     "data": {
      "image/png": "[encoded data removed]",
      "text/plain": [
       "<Figure size 432x288 with 1 Axes>"
      ]
     },
     "metadata": {
      "needs_background": "light"
     },
     "output_type": "display_data"
    }
   ],
   "source": [
    "%matplotlib inline\n",
    " #save this graph as it is when we save our file\n",
    "    \n",
    "plt.title(\"Arithmatic vs LSD-25\", fontsize=17)\n",
    "plt.xlabel(\"Tissue LSD ppm\", fontsize=14)\n",
    "plt.ylabel(\"Performance Score\", fontsize=14)\n",
    "plt.xlim(1, 7)\n",
    "plt.ylim(25, 90)\n",
    "plt.style.use(\"fivethirtyeight\")\n",
    "\n",
    "\n",
    "plt.scatter(lsd, score, color =\"blue\", s=100, alpha=0.7)\n",
    "plt.plot(lsd, predicted_score, color=\"red\", linewidth=3) \n",
    "# the line we drew using the lsd and the predicted score using our regression model.\n",
    "plt.show()"
   ]
  },
  {
   "cell_type": "code",
   "execution_count": null,
   "id": "45428dbc",
   "metadata": {},
   "outputs": [],
   "source": []
  },
  {
   "cell_type": "code",
   "execution_count": null,
   "id": "75b3af4a",
   "metadata": {},
   "outputs": [],
   "source": []
  },
  {
   "cell_type": "code",
   "execution_count": null,
   "id": "8fa1da53",
   "metadata": {},
   "outputs": [],
   "source": []
  }
 ],
 "metadata": {
  "kernelspec": {
   "display_name": "Python 3 (ipykernel)",
   "language": "python",
   "name": "python3"
  },
  "language_info": {
   "codemirror_mode": {
    "name": "ipython",
    "version": 3
   },
   "file_extension": ".py",
   "mimetype": "text/x-python",
   "name": "python",
   "nbconvert_exporter": "python",
   "pygments_lexer": "ipython3",
   "version": "3.9.7"
  }
 },
 "nbformat": 4,
 "nbformat_minor": 5
}
