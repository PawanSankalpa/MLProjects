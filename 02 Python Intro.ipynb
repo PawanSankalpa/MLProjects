{
 "cells": [
  {
   "cell_type": "code",
   "execution_count": 3,
   "id": "ee160215",
   "metadata": {},
   "outputs": [],
   "source": [
    "import pandas as pd\n",
    "data = pd.read_csv(\"lsd_math_score_data.csv\")"
   ]
  },
  {
   "cell_type": "code",
   "execution_count": 4,
   "id": "25b8b4ec",
   "metadata": {},
   "outputs": [
    {
     "name": "stdout",
     "output_type": "stream",
     "text": [
      "   Time_Delay_in_Minutes  LSD_ppm  Avg_Math_Test_Score\n",
      "0                      5     1.17                78.93\n",
      "1                     15     2.97                58.20\n",
      "2                     30     3.26                67.47\n",
      "3                     60     4.69                37.47\n",
      "4                    120     5.83                45.65\n",
      "5                    240     6.00                32.92\n",
      "6                    480     6.41                29.97\n"
     ]
    }
   ],
   "source": [
    "print(data)"
   ]
  },
  {
   "cell_type": "code",
   "execution_count": 5,
   "id": "bea0c288",
   "metadata": {},
   "outputs": [
    {
     "data": {
      "text/plain": [
       "pandas.core.frame.DataFrame"
      ]
     },
     "execution_count": 5,
     "metadata": {},
     "output_type": "execute_result"
    }
   ],
   "source": [
    "type(data)"
   ]
  },
  {
   "cell_type": "code",
   "execution_count": 6,
   "id": "fe816f12",
   "metadata": {},
   "outputs": [],
   "source": [
    "Math_scores = data[\"Avg_Math_Test_Score\"]"
   ]
  },
  {
   "cell_type": "code",
   "execution_count": 7,
   "id": "c32f77a3",
   "metadata": {},
   "outputs": [
    {
     "name": "stdout",
     "output_type": "stream",
     "text": [
      "0    78.93\n",
      "1    58.20\n",
      "2    67.47\n",
      "3    37.47\n",
      "4    45.65\n",
      "5    32.92\n",
      "6    29.97\n",
      "Name: Avg_Math_Test_Score, dtype: float64\n"
     ]
    }
   ],
   "source": [
    "print(Math_scores)"
   ]
  },
  {
   "cell_type": "markdown",
   "id": "cf55f5c0",
   "metadata": {},
   "source": [
    "Adding a New column"
   ]
  },
  {
   "cell_type": "code",
   "execution_count": 8,
   "id": "137a1453",
   "metadata": {},
   "outputs": [],
   "source": [
    "data[\"Test_subject\"] = \"Maths with coding\""
   ]
  },
  {
   "cell_type": "code",
   "execution_count": 9,
   "id": "964e1ebe",
   "metadata": {},
   "outputs": [
    {
     "name": "stdout",
     "output_type": "stream",
     "text": [
      "   Time_Delay_in_Minutes  LSD_ppm  Avg_Math_Test_Score       Test_subject\n",
      "0                      5     1.17                78.93  Maths with coding\n",
      "1                     15     2.97                58.20  Maths with coding\n",
      "2                     30     3.26                67.47  Maths with coding\n",
      "3                     60     4.69                37.47  Maths with coding\n",
      "4                    120     5.83                45.65  Maths with coding\n",
      "5                    240     6.00                32.92  Maths with coding\n",
      "6                    480     6.41                29.97  Maths with coding\n"
     ]
    }
   ],
   "source": [
    "print(data)"
   ]
  },
  {
   "cell_type": "code",
   "execution_count": null,
   "id": "3b240917",
   "metadata": {},
   "outputs": [],
   "source": []
  },
  {
   "cell_type": "code",
   "execution_count": 10,
   "id": "ff5ed226",
   "metadata": {},
   "outputs": [],
   "source": [
    "data[\"High_Scores\"] = 100"
   ]
  },
  {
   "cell_type": "code",
   "execution_count": 11,
   "id": "0cfa6daf",
   "metadata": {},
   "outputs": [
    {
     "name": "stdout",
     "output_type": "stream",
     "text": [
      "   Time_Delay_in_Minutes  LSD_ppm  Avg_Math_Test_Score       Test_subject  \\\n",
      "0                      5     1.17                78.93  Maths with coding   \n",
      "1                     15     2.97                58.20  Maths with coding   \n",
      "2                     30     3.26                67.47  Maths with coding   \n",
      "3                     60     4.69                37.47  Maths with coding   \n",
      "4                    120     5.83                45.65  Maths with coding   \n",
      "5                    240     6.00                32.92  Maths with coding   \n",
      "6                    480     6.41                29.97  Maths with coding   \n",
      "\n",
      "   High_Scores  \n",
      "0          100  \n",
      "1          100  \n",
      "2          100  \n",
      "3          100  \n",
      "4          100  \n",
      "5          100  \n",
      "6          100  \n"
     ]
    }
   ],
   "source": [
    "print(data)"
   ]
  },
  {
   "cell_type": "markdown",
   "id": "63829dd6",
   "metadata": {},
   "source": [
    "#Challenge change the high scores vlaues to the Avg_Math_Test_Score values\n"
   ]
  },
  {
   "cell_type": "code",
   "execution_count": 12,
   "id": "eaa5df78",
   "metadata": {},
   "outputs": [],
   "source": [
    "new_scores = data[\"Avg_Math_Test_Score\"]"
   ]
  },
  {
   "cell_type": "code",
   "execution_count": 15,
   "id": "42d6604b",
   "metadata": {},
   "outputs": [
    {
     "name": "stdout",
     "output_type": "stream",
     "text": [
      "0    78.93\n",
      "1    58.20\n",
      "2    67.47\n",
      "3    37.47\n",
      "4    45.65\n",
      "5    32.92\n",
      "6    29.97\n",
      "Name: Avg_Math_Test_Score, dtype: float64\n"
     ]
    }
   ],
   "source": [
    "print(new_scores)"
   ]
  },
  {
   "cell_type": "code",
   "execution_count": 16,
   "id": "e50aa4ef",
   "metadata": {},
   "outputs": [],
   "source": [
    "data[\"High_Scores\"] = new_scores"
   ]
  },
  {
   "cell_type": "code",
   "execution_count": 17,
   "id": "e8ccf488",
   "metadata": {},
   "outputs": [
    {
     "name": "stdout",
     "output_type": "stream",
     "text": [
      "   Time_Delay_in_Minutes  LSD_ppm  Avg_Math_Test_Score       Test_subject  \\\n",
      "0                      5     1.17                78.93  Maths with coding   \n",
      "1                     15     2.97                58.20  Maths with coding   \n",
      "2                     30     3.26                67.47  Maths with coding   \n",
      "3                     60     4.69                37.47  Maths with coding   \n",
      "4                    120     5.83                45.65  Maths with coding   \n",
      "5                    240     6.00                32.92  Maths with coding   \n",
      "6                    480     6.41                29.97  Maths with coding   \n",
      "\n",
      "   High_Scores  \n",
      "0        78.93  \n",
      "1        58.20  \n",
      "2        67.47  \n",
      "3        37.47  \n",
      "4        45.65  \n",
      "5        32.92  \n",
      "6        29.97  \n"
     ]
    }
   ],
   "source": [
    "print(data)"
   ]
  },
  {
   "cell_type": "code",
   "execution_count": null,
   "id": "5185fd21",
   "metadata": {},
   "outputs": [],
   "source": []
  },
  {
   "cell_type": "code",
   "execution_count": null,
   "id": "5fe9173b",
   "metadata": {},
   "outputs": [],
   "source": []
  },
  {
   "cell_type": "code",
   "execution_count": null,
   "id": "da0b46b6",
   "metadata": {},
   "outputs": [],
   "source": []
  }
 ],
 "metadata": {
  "kernelspec": {
   "display_name": "Python 3 (ipykernel)",
   "language": "python",
   "name": "python3"
  },
  "language_info": {
   "codemirror_mode": {
    "name": "ipython",
    "version": 3
   },
   "file_extension": ".py",
   "mimetype": "text/x-python",
   "name": "python",
   "nbconvert_exporter": "python",
   "pygments_lexer": "ipython3",
   "version": "3.9.7"
  }
 },
 "nbformat": 4,
 "nbformat_minor": 5
}
